{
  "nbformat": 4,
  "nbformat_minor": 0,
  "metadata": {
    "colab": {
      "name": "HW5-8108056007.ipynb",
      "provenance": [],
      "mount_file_id": "1Tz8Eu7mNntpamTWzbWDg6N1q_y-mslC9",
      "authorship_tag": "ABX9TyMSdfoLAkK+eYI6hQGTtZga",
      "include_colab_link": true
    },
    "kernelspec": {
      "name": "python3",
      "display_name": "Python 3"
    },
    "language_info": {
      "name": "python"
    },
    "widgets": {
      "application/vnd.jupyter.widget-state+json": {
        "03d7f786a4c84d81a837f1df943fcf73": {
          "model_module": "@jupyter-widgets/controls",
          "model_name": "HBoxModel",
          "model_module_version": "1.5.0",
          "state": {
            "_dom_classes": [],
            "_model_module": "@jupyter-widgets/controls",
            "_model_module_version": "1.5.0",
            "_model_name": "HBoxModel",
            "_view_count": null,
            "_view_module": "@jupyter-widgets/controls",
            "_view_module_version": "1.5.0",
            "_view_name": "HBoxView",
            "box_style": "",
            "children": [
              "IPY_MODEL_2c8ee9effefc4c7a9eb2971c25f89600",
              "IPY_MODEL_17133daee96144e6bf332d8e3988d3df",
              "IPY_MODEL_142223882d574f21a7527420d8b89193"
            ],
            "layout": "IPY_MODEL_a5c0ecebc6ce400d88d708b6472d2161"
          }
        },
        "2c8ee9effefc4c7a9eb2971c25f89600": {
          "model_module": "@jupyter-widgets/controls",
          "model_name": "HTMLModel",
          "model_module_version": "1.5.0",
          "state": {
            "_dom_classes": [],
            "_model_module": "@jupyter-widgets/controls",
            "_model_module_version": "1.5.0",
            "_model_name": "HTMLModel",
            "_view_count": null,
            "_view_module": "@jupyter-widgets/controls",
            "_view_module_version": "1.5.0",
            "_view_name": "HTMLView",
            "description": "",
            "description_tooltip": null,
            "layout": "IPY_MODEL_973fc29277134cafb9a49170d89a471a",
            "placeholder": "​",
            "style": "IPY_MODEL_1e91a81444024373af95efc39b8c3ec2",
            "value": "Epoch 1492: "
          }
        },
        "17133daee96144e6bf332d8e3988d3df": {
          "model_module": "@jupyter-widgets/controls",
          "model_name": "FloatProgressModel",
          "model_module_version": "1.5.0",
          "state": {
            "_dom_classes": [],
            "_model_module": "@jupyter-widgets/controls",
            "_model_module_version": "1.5.0",
            "_model_name": "FloatProgressModel",
            "_view_count": null,
            "_view_module": "@jupyter-widgets/controls",
            "_view_module_version": "1.5.0",
            "_view_name": "ProgressView",
            "bar_style": "success",
            "description": "",
            "description_tooltip": null,
            "layout": "IPY_MODEL_199a157c66874176a9e15d2977054336",
            "max": 1,
            "min": 0,
            "orientation": "horizontal",
            "style": "IPY_MODEL_fef2dc2e228946eca48a37ade17bb270",
            "value": 1
          }
        },
        "142223882d574f21a7527420d8b89193": {
          "model_module": "@jupyter-widgets/controls",
          "model_name": "HTMLModel",
          "model_module_version": "1.5.0",
          "state": {
            "_dom_classes": [],
            "_model_module": "@jupyter-widgets/controls",
            "_model_module_version": "1.5.0",
            "_model_name": "HTMLModel",
            "_view_count": null,
            "_view_module": "@jupyter-widgets/controls",
            "_view_module_version": "1.5.0",
            "_view_name": "HTMLView",
            "description": "",
            "description_tooltip": null,
            "layout": "IPY_MODEL_2658f94bfb6d47e6a56b070fe0f1d1ff",
            "placeholder": "​",
            "style": "IPY_MODEL_78dc1821d8684a17b51db314f29029c0",
            "value": " 40/? [18:44&lt;00:00, 28.11s/it, loss=0.779, v_num=0]"
          }
        },
        "a5c0ecebc6ce400d88d708b6472d2161": {
          "model_module": "@jupyter-widgets/base",
          "model_name": "LayoutModel",
          "model_module_version": "1.2.0",
          "state": {
            "_model_module": "@jupyter-widgets/base",
            "_model_module_version": "1.2.0",
            "_model_name": "LayoutModel",
            "_view_count": null,
            "_view_module": "@jupyter-widgets/base",
            "_view_module_version": "1.2.0",
            "_view_name": "LayoutView",
            "align_content": null,
            "align_items": null,
            "align_self": null,
            "border": null,
            "bottom": null,
            "display": "inline-flex",
            "flex": null,
            "flex_flow": "row wrap",
            "grid_area": null,
            "grid_auto_columns": null,
            "grid_auto_flow": null,
            "grid_auto_rows": null,
            "grid_column": null,
            "grid_gap": null,
            "grid_row": null,
            "grid_template_areas": null,
            "grid_template_columns": null,
            "grid_template_rows": null,
            "height": null,
            "justify_content": null,
            "justify_items": null,
            "left": null,
            "margin": null,
            "max_height": null,
            "max_width": null,
            "min_height": null,
            "min_width": null,
            "object_fit": null,
            "object_position": null,
            "order": null,
            "overflow": null,
            "overflow_x": null,
            "overflow_y": null,
            "padding": null,
            "right": null,
            "top": null,
            "visibility": null,
            "width": "100%"
          }
        },
        "973fc29277134cafb9a49170d89a471a": {
          "model_module": "@jupyter-widgets/base",
          "model_name": "LayoutModel",
          "model_module_version": "1.2.0",
          "state": {
            "_model_module": "@jupyter-widgets/base",
            "_model_module_version": "1.2.0",
            "_model_name": "LayoutModel",
            "_view_count": null,
            "_view_module": "@jupyter-widgets/base",
            "_view_module_version": "1.2.0",
            "_view_name": "LayoutView",
            "align_content": null,
            "align_items": null,
            "align_self": null,
            "border": null,
            "bottom": null,
            "display": null,
            "flex": null,
            "flex_flow": null,
            "grid_area": null,
            "grid_auto_columns": null,
            "grid_auto_flow": null,
            "grid_auto_rows": null,
            "grid_column": null,
            "grid_gap": null,
            "grid_row": null,
            "grid_template_areas": null,
            "grid_template_columns": null,
            "grid_template_rows": null,
            "height": null,
            "justify_content": null,
            "justify_items": null,
            "left": null,
            "margin": null,
            "max_height": null,
            "max_width": null,
            "min_height": null,
            "min_width": null,
            "object_fit": null,
            "object_position": null,
            "order": null,
            "overflow": null,
            "overflow_x": null,
            "overflow_y": null,
            "padding": null,
            "right": null,
            "top": null,
            "visibility": null,
            "width": null
          }
        },
        "1e91a81444024373af95efc39b8c3ec2": {
          "model_module": "@jupyter-widgets/controls",
          "model_name": "DescriptionStyleModel",
          "model_module_version": "1.5.0",
          "state": {
            "_model_module": "@jupyter-widgets/controls",
            "_model_module_version": "1.5.0",
            "_model_name": "DescriptionStyleModel",
            "_view_count": null,
            "_view_module": "@jupyter-widgets/base",
            "_view_module_version": "1.2.0",
            "_view_name": "StyleView",
            "description_width": ""
          }
        },
        "199a157c66874176a9e15d2977054336": {
          "model_module": "@jupyter-widgets/base",
          "model_name": "LayoutModel",
          "model_module_version": "1.2.0",
          "state": {
            "_model_module": "@jupyter-widgets/base",
            "_model_module_version": "1.2.0",
            "_model_name": "LayoutModel",
            "_view_count": null,
            "_view_module": "@jupyter-widgets/base",
            "_view_module_version": "1.2.0",
            "_view_name": "LayoutView",
            "align_content": null,
            "align_items": null,
            "align_self": null,
            "border": null,
            "bottom": null,
            "display": null,
            "flex": "2",
            "flex_flow": null,
            "grid_area": null,
            "grid_auto_columns": null,
            "grid_auto_flow": null,
            "grid_auto_rows": null,
            "grid_column": null,
            "grid_gap": null,
            "grid_row": null,
            "grid_template_areas": null,
            "grid_template_columns": null,
            "grid_template_rows": null,
            "height": null,
            "justify_content": null,
            "justify_items": null,
            "left": null,
            "margin": null,
            "max_height": null,
            "max_width": null,
            "min_height": null,
            "min_width": null,
            "object_fit": null,
            "object_position": null,
            "order": null,
            "overflow": null,
            "overflow_x": null,
            "overflow_y": null,
            "padding": null,
            "right": null,
            "top": null,
            "visibility": null,
            "width": null
          }
        },
        "fef2dc2e228946eca48a37ade17bb270": {
          "model_module": "@jupyter-widgets/controls",
          "model_name": "ProgressStyleModel",
          "model_module_version": "1.5.0",
          "state": {
            "_model_module": "@jupyter-widgets/controls",
            "_model_module_version": "1.5.0",
            "_model_name": "ProgressStyleModel",
            "_view_count": null,
            "_view_module": "@jupyter-widgets/base",
            "_view_module_version": "1.2.0",
            "_view_name": "StyleView",
            "bar_color": null,
            "description_width": ""
          }
        },
        "2658f94bfb6d47e6a56b070fe0f1d1ff": {
          "model_module": "@jupyter-widgets/base",
          "model_name": "LayoutModel",
          "model_module_version": "1.2.0",
          "state": {
            "_model_module": "@jupyter-widgets/base",
            "_model_module_version": "1.2.0",
            "_model_name": "LayoutModel",
            "_view_count": null,
            "_view_module": "@jupyter-widgets/base",
            "_view_module_version": "1.2.0",
            "_view_name": "LayoutView",
            "align_content": null,
            "align_items": null,
            "align_self": null,
            "border": null,
            "bottom": null,
            "display": null,
            "flex": null,
            "flex_flow": null,
            "grid_area": null,
            "grid_auto_columns": null,
            "grid_auto_flow": null,
            "grid_auto_rows": null,
            "grid_column": null,
            "grid_gap": null,
            "grid_row": null,
            "grid_template_areas": null,
            "grid_template_columns": null,
            "grid_template_rows": null,
            "height": null,
            "justify_content": null,
            "justify_items": null,
            "left": null,
            "margin": null,
            "max_height": null,
            "max_width": null,
            "min_height": null,
            "min_width": null,
            "object_fit": null,
            "object_position": null,
            "order": null,
            "overflow": null,
            "overflow_x": null,
            "overflow_y": null,
            "padding": null,
            "right": null,
            "top": null,
            "visibility": null,
            "width": null
          }
        },
        "78dc1821d8684a17b51db314f29029c0": {
          "model_module": "@jupyter-widgets/controls",
          "model_name": "DescriptionStyleModel",
          "model_module_version": "1.5.0",
          "state": {
            "_model_module": "@jupyter-widgets/controls",
            "_model_module_version": "1.5.0",
            "_model_name": "DescriptionStyleModel",
            "_view_count": null,
            "_view_module": "@jupyter-widgets/base",
            "_view_module_version": "1.2.0",
            "_view_name": "StyleView",
            "description_width": ""
          }
        }
      }
    }
  },
  "cells": [
    {
      "cell_type": "markdown",
      "metadata": {
        "id": "view-in-github",
        "colab_type": "text"
      },
      "source": [
        "<a href=\"https://colab.research.google.com/github/AnnieLin5/RL/blob/v1/HW5_8108056007.ipynb\" target=\"_parent\"><img src=\"https://colab.research.google.com/assets/colab-badge.svg\" alt=\"Open In Colab\"/></a>"
      ]
    },
    {
      "cell_type": "markdown",
      "source": [
        "\n",
        "##2.1 Setup Environment"
      ],
      "metadata": {
        "id": "HHFH1RNKmenP"
      }
    },
    {
      "cell_type": "code",
      "source": [
        "from google.colab import drive\n",
        "drive.mount('/content/gdrive') # 此處需要登入 google 帳號"
      ],
      "metadata": {
        "colab": {
          "base_uri": "https://localhost:8080/"
        },
        "id": "DHAz0jmFox1d",
        "outputId": "4c0e95e4-8d8c-4cdf-aa21-258387c33fcd"
      },
      "execution_count": 1,
      "outputs": [
        {
          "output_type": "stream",
          "name": "stdout",
          "text": [
            "Mounted at /content/gdrive\n"
          ]
        }
      ]
    },
    {
      "cell_type": "code",
      "source": [
        "# 安裝xvfb虛擬螢幕套件建立虛擬幀緩衝區，也就是虛擬的XWindow伺服器，讓視窗應用程式可以在這個環境中執行\n",
        "!apt-get install -y xvfb\n",
        "\n",
        "# 安裝強化學習需要的環境Gym、Box2D環境、PyTorchLightning pageage、pyvirtualdisplay虛擬顯示設備\n",
        "# 在python中需要顯示圖像的時候，可透過pyvirtualdisplay連接rvfb（服務器）來完成顯示\n",
        "#!pip install gym==0.21 gym[box2d] pytorch-lightning==1.6.0 pyvirtualdisplay\n",
        "# 改用atari遊戲\n",
        "!pip install gym[atari,accept-rom-license]==0.21.0 pytorch-lightning==1.6.0 pyvirtualdisplay\n",
        "# !pip install https://github.com/PyTorchLightning/pytorch-lightning/archive/refs/heads/release/1.5.x.zip"
      ],
      "metadata": {
        "colab": {
          "base_uri": "https://localhost:8080/"
        },
        "id": "wJR7eQJ6mgVR",
        "outputId": "1efbe6fc-6469-4b0f-d762-714e5180edbf"
      },
      "execution_count": 3,
      "outputs": [
        {
          "output_type": "stream",
          "name": "stdout",
          "text": [
            "Reading package lists... Done\n",
            "Building dependency tree       \n",
            "Reading state information... Done\n",
            "xvfb is already the newest version (2:1.19.6-1ubuntu4.10).\n",
            "The following package was automatically installed and is no longer required:\n",
            "  libnvidia-common-460\n",
            "Use 'apt autoremove' to remove it.\n",
            "0 upgraded, 0 newly installed, 0 to remove and 49 not upgraded.\n",
            "Looking in indexes: https://pypi.org/simple, https://us-python.pkg.dev/colab-wheels/public/simple/\n",
            "Requirement already satisfied: gym[accept-rom-license,atari]==0.21.0 in /usr/local/lib/python3.7/dist-packages (0.21.0)\n",
            "Requirement already satisfied: pytorch-lightning==1.6.0 in /usr/local/lib/python3.7/dist-packages (1.6.0)\n",
            "Requirement already satisfied: pyvirtualdisplay in /usr/local/lib/python3.7/dist-packages (3.0)\n",
            "Requirement already satisfied: tqdm>=4.41.0 in /usr/local/lib/python3.7/dist-packages (from pytorch-lightning==1.6.0) (4.64.0)\n",
            "Requirement already satisfied: torch>=1.8.* in /usr/local/lib/python3.7/dist-packages (from pytorch-lightning==1.6.0) (1.11.0+cu113)\n",
            "Requirement already satisfied: packaging>=17.0 in /usr/local/lib/python3.7/dist-packages (from pytorch-lightning==1.6.0) (21.3)\n",
            "Requirement already satisfied: typing-extensions>=4.0.0 in /usr/local/lib/python3.7/dist-packages (from pytorch-lightning==1.6.0) (4.1.1)\n",
            "Requirement already satisfied: PyYAML>=5.4 in /usr/local/lib/python3.7/dist-packages (from pytorch-lightning==1.6.0) (6.0)\n",
            "Requirement already satisfied: pyDeprecate<0.4.0,>=0.3.1 in /usr/local/lib/python3.7/dist-packages (from pytorch-lightning==1.6.0) (0.3.2)\n",
            "Requirement already satisfied: tensorboard>=2.2.0 in /usr/local/lib/python3.7/dist-packages (from pytorch-lightning==1.6.0) (2.8.0)\n",
            "Requirement already satisfied: numpy>=1.17.2 in /usr/local/lib/python3.7/dist-packages (from pytorch-lightning==1.6.0) (1.21.6)\n",
            "Requirement already satisfied: fsspec[http]!=2021.06.0,>=2021.05.0 in /usr/local/lib/python3.7/dist-packages (from pytorch-lightning==1.6.0) (2022.5.0)\n",
            "Requirement already satisfied: torchmetrics>=0.4.1 in /usr/local/lib/python3.7/dist-packages (from pytorch-lightning==1.6.0) (0.9.1)\n",
            "Requirement already satisfied: importlib-metadata>=4.8.1 in /usr/local/lib/python3.7/dist-packages (from gym[accept-rom-license,atari]==0.21.0) (4.11.4)\n",
            "Requirement already satisfied: cloudpickle>=1.2.0 in /usr/local/lib/python3.7/dist-packages (from gym[accept-rom-license,atari]==0.21.0) (1.3.0)\n",
            "Requirement already satisfied: ale-py~=0.7.1 in /usr/local/lib/python3.7/dist-packages (from gym[accept-rom-license,atari]==0.21.0) (0.7.5)\n",
            "Requirement already satisfied: autorom[accept-rom-license]~=0.4.2 in /usr/local/lib/python3.7/dist-packages (from gym[accept-rom-license,atari]==0.21.0) (0.4.2)\n",
            "Requirement already satisfied: importlib-resources in /usr/local/lib/python3.7/dist-packages (from ale-py~=0.7.1->gym[accept-rom-license,atari]==0.21.0) (5.7.1)\n",
            "Requirement already satisfied: requests in /usr/local/lib/python3.7/dist-packages (from autorom[accept-rom-license]~=0.4.2->gym[accept-rom-license,atari]==0.21.0) (2.23.0)\n",
            "Requirement already satisfied: click in /usr/local/lib/python3.7/dist-packages (from autorom[accept-rom-license]~=0.4.2->gym[accept-rom-license,atari]==0.21.0) (7.1.2)\n",
            "Requirement already satisfied: AutoROM.accept-rom-license in /usr/local/lib/python3.7/dist-packages (from autorom[accept-rom-license]~=0.4.2->gym[accept-rom-license,atari]==0.21.0) (0.4.2)\n",
            "Requirement already satisfied: aiohttp in /usr/local/lib/python3.7/dist-packages (from fsspec[http]!=2021.06.0,>=2021.05.0->pytorch-lightning==1.6.0) (3.8.1)\n",
            "Requirement already satisfied: zipp>=0.5 in /usr/local/lib/python3.7/dist-packages (from importlib-metadata>=4.8.1->gym[accept-rom-license,atari]==0.21.0) (3.8.0)\n",
            "Requirement already satisfied: pyparsing!=3.0.5,>=2.0.2 in /usr/local/lib/python3.7/dist-packages (from packaging>=17.0->pytorch-lightning==1.6.0) (3.0.9)\n",
            "Requirement already satisfied: google-auth<3,>=1.6.3 in /usr/local/lib/python3.7/dist-packages (from tensorboard>=2.2.0->pytorch-lightning==1.6.0) (1.35.0)\n",
            "Requirement already satisfied: absl-py>=0.4 in /usr/local/lib/python3.7/dist-packages (from tensorboard>=2.2.0->pytorch-lightning==1.6.0) (1.1.0)\n",
            "Requirement already satisfied: wheel>=0.26 in /usr/local/lib/python3.7/dist-packages (from tensorboard>=2.2.0->pytorch-lightning==1.6.0) (0.37.1)\n",
            "Requirement already satisfied: protobuf>=3.6.0 in /usr/local/lib/python3.7/dist-packages (from tensorboard>=2.2.0->pytorch-lightning==1.6.0) (3.17.3)\n",
            "Requirement already satisfied: grpcio>=1.24.3 in /usr/local/lib/python3.7/dist-packages (from tensorboard>=2.2.0->pytorch-lightning==1.6.0) (1.46.3)\n",
            "Requirement already satisfied: tensorboard-plugin-wit>=1.6.0 in /usr/local/lib/python3.7/dist-packages (from tensorboard>=2.2.0->pytorch-lightning==1.6.0) (1.8.1)\n",
            "Requirement already satisfied: werkzeug>=0.11.15 in /usr/local/lib/python3.7/dist-packages (from tensorboard>=2.2.0->pytorch-lightning==1.6.0) (1.0.1)\n",
            "Requirement already satisfied: google-auth-oauthlib<0.5,>=0.4.1 in /usr/local/lib/python3.7/dist-packages (from tensorboard>=2.2.0->pytorch-lightning==1.6.0) (0.4.6)\n",
            "Requirement already satisfied: markdown>=2.6.8 in /usr/local/lib/python3.7/dist-packages (from tensorboard>=2.2.0->pytorch-lightning==1.6.0) (3.3.7)\n",
            "Requirement already satisfied: setuptools>=41.0.0 in /usr/local/lib/python3.7/dist-packages (from tensorboard>=2.2.0->pytorch-lightning==1.6.0) (57.4.0)\n",
            "Requirement already satisfied: tensorboard-data-server<0.7.0,>=0.6.0 in /usr/local/lib/python3.7/dist-packages (from tensorboard>=2.2.0->pytorch-lightning==1.6.0) (0.6.1)\n",
            "Requirement already satisfied: six>=1.9.0 in /usr/local/lib/python3.7/dist-packages (from google-auth<3,>=1.6.3->tensorboard>=2.2.0->pytorch-lightning==1.6.0) (1.15.0)\n",
            "Requirement already satisfied: pyasn1-modules>=0.2.1 in /usr/local/lib/python3.7/dist-packages (from google-auth<3,>=1.6.3->tensorboard>=2.2.0->pytorch-lightning==1.6.0) (0.2.8)\n",
            "Requirement already satisfied: rsa<5,>=3.1.4 in /usr/local/lib/python3.7/dist-packages (from google-auth<3,>=1.6.3->tensorboard>=2.2.0->pytorch-lightning==1.6.0) (4.8)\n",
            "Requirement already satisfied: cachetools<5.0,>=2.0.0 in /usr/local/lib/python3.7/dist-packages (from google-auth<3,>=1.6.3->tensorboard>=2.2.0->pytorch-lightning==1.6.0) (4.2.4)\n",
            "Requirement already satisfied: requests-oauthlib>=0.7.0 in /usr/local/lib/python3.7/dist-packages (from google-auth-oauthlib<0.5,>=0.4.1->tensorboard>=2.2.0->pytorch-lightning==1.6.0) (1.3.1)\n",
            "Requirement already satisfied: pyasn1<0.5.0,>=0.4.6 in /usr/local/lib/python3.7/dist-packages (from pyasn1-modules>=0.2.1->google-auth<3,>=1.6.3->tensorboard>=2.2.0->pytorch-lightning==1.6.0) (0.4.8)\n",
            "Requirement already satisfied: certifi>=2017.4.17 in /usr/local/lib/python3.7/dist-packages (from requests->autorom[accept-rom-license]~=0.4.2->gym[accept-rom-license,atari]==0.21.0) (2022.6.15)\n",
            "Requirement already satisfied: chardet<4,>=3.0.2 in /usr/local/lib/python3.7/dist-packages (from requests->autorom[accept-rom-license]~=0.4.2->gym[accept-rom-license,atari]==0.21.0) (3.0.4)\n",
            "Requirement already satisfied: idna<3,>=2.5 in /usr/local/lib/python3.7/dist-packages (from requests->autorom[accept-rom-license]~=0.4.2->gym[accept-rom-license,atari]==0.21.0) (2.10)\n",
            "Requirement already satisfied: urllib3!=1.25.0,!=1.25.1,<1.26,>=1.21.1 in /usr/local/lib/python3.7/dist-packages (from requests->autorom[accept-rom-license]~=0.4.2->gym[accept-rom-license,atari]==0.21.0) (1.24.3)\n",
            "Requirement already satisfied: oauthlib>=3.0.0 in /usr/local/lib/python3.7/dist-packages (from requests-oauthlib>=0.7.0->google-auth-oauthlib<0.5,>=0.4.1->tensorboard>=2.2.0->pytorch-lightning==1.6.0) (3.2.0)\n",
            "Requirement already satisfied: charset-normalizer<3.0,>=2.0 in /usr/local/lib/python3.7/dist-packages (from aiohttp->fsspec[http]!=2021.06.0,>=2021.05.0->pytorch-lightning==1.6.0) (2.0.12)\n",
            "Requirement already satisfied: aiosignal>=1.1.2 in /usr/local/lib/python3.7/dist-packages (from aiohttp->fsspec[http]!=2021.06.0,>=2021.05.0->pytorch-lightning==1.6.0) (1.2.0)\n",
            "Requirement already satisfied: async-timeout<5.0,>=4.0.0a3 in /usr/local/lib/python3.7/dist-packages (from aiohttp->fsspec[http]!=2021.06.0,>=2021.05.0->pytorch-lightning==1.6.0) (4.0.2)\n",
            "Requirement already satisfied: attrs>=17.3.0 in /usr/local/lib/python3.7/dist-packages (from aiohttp->fsspec[http]!=2021.06.0,>=2021.05.0->pytorch-lightning==1.6.0) (21.4.0)\n",
            "Requirement already satisfied: yarl<2.0,>=1.0 in /usr/local/lib/python3.7/dist-packages (from aiohttp->fsspec[http]!=2021.06.0,>=2021.05.0->pytorch-lightning==1.6.0) (1.7.2)\n",
            "Requirement already satisfied: asynctest==0.13.0 in /usr/local/lib/python3.7/dist-packages (from aiohttp->fsspec[http]!=2021.06.0,>=2021.05.0->pytorch-lightning==1.6.0) (0.13.0)\n",
            "Requirement already satisfied: frozenlist>=1.1.1 in /usr/local/lib/python3.7/dist-packages (from aiohttp->fsspec[http]!=2021.06.0,>=2021.05.0->pytorch-lightning==1.6.0) (1.3.0)\n",
            "Requirement already satisfied: multidict<7.0,>=4.5 in /usr/local/lib/python3.7/dist-packages (from aiohttp->fsspec[http]!=2021.06.0,>=2021.05.0->pytorch-lightning==1.6.0) (6.0.2)\n"
          ]
        }
      ]
    },
    {
      "cell_type": "markdown",
      "source": [
        "## Setup virtual display  \n",
        "### 使用pyvirtualdisplay進行顯示"
      ],
      "metadata": {
        "id": "A8KV13BfmqBW"
      }
    },
    {
      "cell_type": "code",
      "source": [
        "from pyvirtualdisplay import Display\n",
        "# 使用pyvirtualdisplay進行顯示\n",
        "Display(visible=False, size=(1400, 900)).start()"
      ],
      "metadata": {
        "colab": {
          "base_uri": "https://localhost:8080/"
        },
        "id": "5Ewv2rcmmql0",
        "outputId": "c57f5a40-681a-4f7b-8002-90979fdff959"
      },
      "execution_count": null,
      "outputs": [
        {
          "output_type": "execute_result",
          "data": {
            "text/plain": [
              "<pyvirtualdisplay.display.Display at 0x7fdcc25043d0>"
            ]
          },
          "metadata": {},
          "execution_count": 8
        }
      ]
    },
    {
      "cell_type": "markdown",
      "source": [
        "## Import the necessary code libraries\n",
        "### 載入必要的libraries"
      ],
      "metadata": {
        "id": "6rWjQfYZm57U"
      }
    },
    {
      "cell_type": "code",
      "source": [
        "import copy\n",
        "import gym\n",
        "import torch\n",
        "import random\n",
        "\n",
        "import numpy as np\n",
        "import torch.nn.functional as F\n",
        "\n",
        "from collections import deque, namedtuple\n",
        "from IPython.display import HTML\n",
        "from base64 import b64encode\n",
        "\n",
        "from torch import Tensor, nn\n",
        "from torch.utils.data import DataLoader\n",
        "from torch.utils.data.dataset import IterableDataset\n",
        "from torch.optim import AdamW\n",
        "\n",
        "from pytorch_lightning import LightningModule,Trainer\n",
        "\n",
        "from gym.wrappers import RecordVideo, RecordEpisodeStatistics, TimeLimit\n",
        "\n",
        "from pytorch_lightning.callbacks import EarlyStopping\n",
        "\n",
        "device = 'cuda:0' if torch.cuda.is_available() else 'cpu'\n",
        "num_gpus = torch.cuda.device_count()"
      ],
      "metadata": {
        "id": "xQfBfKthm6T_"
      },
      "execution_count": null,
      "outputs": []
    },
    {
      "cell_type": "markdown",
      "source": [
        "使用video recording的方式參考自: [Rendering OpenAi Gym in Colaboratory](https://colab.research.google.com/drive/1flu31ulJlgiRL1dnN2ir8wGh9p7Zij2t)"
      ],
      "metadata": {
        "id": "YM3XsHGY8Jku"
      }
    },
    {
      "cell_type": "code",
      "source": [
        "# 使用video recording的方式，先將render的過程就存下來，再以video方式顯示\n",
        "def display_video(episode=0):\n",
        "  video_file = open(f'/content/gdrive/MyDrive/Colab Notebooks/HW5/videos-1/rl-video-episode-{episode}.mp4', \"r+b\").read()\n",
        "  video_url = f\"data:video/mp4;base64,{b64encode(video_file).decode()}\"\n",
        "  return HTML(f\"<video width=600 controls><source src='{video_url}'></video>\")\n",
        "\n",
        "#display_video(1000)"
      ],
      "metadata": {
        "id": "l3bre-p6nAXG"
      },
      "execution_count": null,
      "outputs": []
    },
    {
      "cell_type": "markdown",
      "source": [
        "##2.2 Create the Deep Q-Network"
      ],
      "metadata": {
        "id": "EurKzUyknCYb"
      }
    },
    {
      "cell_type": "code",
      "source": [
        "class DQN(nn.Module):\n",
        "  \n",
        "  def __init__(self, hidden_size, obs_size, n_actions):\n",
        "    super().__init__()\n",
        "    self.net=nn.Sequential(\n",
        "        nn.Linear(obs_size, hidden_size),\n",
        "        nn.ReLU(),\n",
        "        nn.Linear(hidden_size, hidden_size),\n",
        "        nn.ReLU(),\n",
        "        nn.Linear(hidden_size, n_actions)\n",
        "    )\n",
        "\n",
        "  def forward(self, x):\n",
        "    return self.net(x.float())"
      ],
      "metadata": {
        "id": "U90bCVTYnLB7"
      },
      "execution_count": null,
      "outputs": []
    },
    {
      "cell_type": "markdown",
      "source": [
        "##2.3 Create the policy"
      ],
      "metadata": {
        "id": "HIVl5ciUnQRl"
      }
    },
    {
      "cell_type": "code",
      "source": [
        "def epsilon_greedy(state, env, net, epsilon=0.0):\n",
        "  if np.random.random() < epsilon:\n",
        "    action = env.action_space.sample()\n",
        "  else:\n",
        "    state = torch.tensor([state]).to(device)\n",
        "    q_values = net(state)\n",
        "    _, action =torch.max(q_values, dim=1)\n",
        "    action = int(action.item())\n",
        "  return action"
      ],
      "metadata": {
        "id": "EGeAQHJ7nTns"
      },
      "execution_count": null,
      "outputs": []
    },
    {
      "cell_type": "markdown",
      "source": [
        "##2.4 Create the replay buffer"
      ],
      "metadata": {
        "id": "cLrgana9nV_z"
      }
    },
    {
      "cell_type": "code",
      "source": [
        "class ReplayBuffer:\n",
        "\n",
        "  def __init__(self, capacity):\n",
        "    self.buffer= deque(maxlen=capacity)\n",
        "  \n",
        "  def __len__(self):\n",
        "    return len(self.buffer)\n",
        "\n",
        "  def append(self, experience):\n",
        "    self.buffer.append(experience) \n",
        "\n",
        "  def sample(self,batch_size):\n",
        "    return random.sample(self.buffer,batch_size)"
      ],
      "metadata": {
        "id": "XZDpkRqTnXOC"
      },
      "execution_count": null,
      "outputs": []
    },
    {
      "cell_type": "code",
      "source": [
        "class RLDataset(IterableDataset):\n",
        "\n",
        "  def __init__(self, buffer, sample_size=200):\n",
        "     self.buffer = buffer\n",
        "     self.sample_size = sample_size\n",
        "    \n",
        "  def __iter__(self):\n",
        "    for experience in self.buffer.sample(self.sample_size):\n",
        "      yield experience"
      ],
      "metadata": {
        "id": "YU7jofxqnZo6"
      },
      "execution_count": null,
      "outputs": []
    },
    {
      "cell_type": "markdown",
      "source": [
        "##2.5 Create the environment  \n",
        "*   Reinforcement Learning(強化學習)-LunarLander-v2 環境介紹 https://mathpretty.com/14212.html\n",
        "\n",
        "*   LunarLander-v2 環境介紹\n",
        "> *   Obs 與 Action 介紹\n",
        "> *   該環境共有 8 個觀測值（obs），分別是： 水平座標 x； 垂直座標 y；水平速度；垂直速度；角度；角速度；腿1觸地；腿2觸地；\n",
        "*   Agent 可以採取四種離散的行動，分別是：\n",
        "> *   0 代表不採取任何行動\n",
        "> *   2 代表主引擎向下噴射\n",
        "> *   1,3 則是向左右噴射\n",
        "*   Reward 介紹 「環境」給予的 reward 大致是這樣計算：\n",
        "> *   小艇墜毀得到 -100 分；\n",
        "> *   小艇在黃旗幟之間成功著地則得 100~140 分；\n",
        "> *   噴射主引擎（向下噴火）每次 -0.3 分；\n",
        "> *   小艇最終完全靜止則再得 100 分；\n",
        "> *   「腿 1」或是「腿 2」都能獲得 10 分；\n",
        "\n",
        "#### (初始環境互動)  \n",
        "import gym  \n",
        "env = gym.make('LunarLander-v2')\n",
        "#### 初始化環境\n",
        "initial_state = env.reset()  \n",
        "print(initial_state)\n",
        "#### 隨機選擇一個與環境交互\n",
        "random_action = env.action_space.sample()  \n",
        "print(random_action)  \n",
        "observation, reward, done, info = env.step(random_action)  \n",
        "print(observation, reward)\n"
      ],
      "metadata": {
        "id": "uHo04wgpndp-"
      }
    },
    {
      "cell_type": "code",
      "source": [
        "def create_environment(name):\n",
        "  env=gym.make(name)\n",
        "  env=TimeLimit(env, max_episode_steps=400)\n",
        "  record_interval=100\n",
        "  env=RecordVideo(env, video_folder='./videos-1',episode_trigger=lambda x: x% record_interval==0)\n",
        "  env=RecordEpisodeStatistics(env)\n",
        "  return env"
      ],
      "metadata": {
        "id": "HpA9JUgunetB"
      },
      "execution_count": null,
      "outputs": []
    },
    {
      "cell_type": "code",
      "source": [
        "env=create_environment('LunarLander-v2')\n",
        "env.reset()\n",
        "#testing\n",
        "env.observation_space.sample()\n",
        "env.action_space.sample()\n",
        "print(\"action_space_n=\",env.action_space.n)\n",
        "\n",
        "import matplotlib.pyplot as plt\n",
        "plt.imshow(env.render(mode='rgb_array'))"
      ],
      "metadata": {
        "colab": {
          "base_uri": "https://localhost:8080/",
          "height": 358
        },
        "id": "0x5phU7-n76S",
        "outputId": "0d249652-e7f3-4946-a88f-a16487f5b9c4"
      },
      "execution_count": null,
      "outputs": [
        {
          "output_type": "stream",
          "name": "stderr",
          "text": [
            "/usr/local/lib/python3.7/dist-packages/gym/wrappers/record_video.py:42: UserWarning: \u001b[33mWARN: Overwriting existing videos at /content/videos folder (try specifying a different `video_folder` for the `RecordVideo` wrapper if this is not desired)\u001b[0m\n",
            "  f\"Overwriting existing videos at {self.video_folder} folder (try specifying a different `video_folder` for the `RecordVideo` wrapper if this is not desired)\"\n"
          ]
        },
        {
          "output_type": "stream",
          "name": "stdout",
          "text": [
            "action_space_n= 4\n"
          ]
        },
        {
          "output_type": "execute_result",
          "data": {
            "text/plain": [
              "<matplotlib.image.AxesImage at 0x7fdbed26c510>"
            ]
          },
          "metadata": {},
          "execution_count": 20
        },
        {
          "output_type": "display_data",
          "data": {
            "text/plain": [
              "<Figure size 432x288 with 1 Axes>"
            ],
            "image/png": "[encoded data removed]"
          },
          "metadata": {
            "needs_background": "light"
          }
        }
      ]
    },
    {
      "cell_type": "markdown",
      "source": [
        "##2.6 Create the test/sampling function"
      ],
      "metadata": {
        "id": "EE6aBIrPn_c6"
      }
    },
    {
      "cell_type": "code",
      "source": [
        "purge=1\n",
        "if purge:\n",
        "  !rm -r /content/lightning_logs-1/\n",
        "  !rm -r /content/videos-1/"
      ],
      "metadata": {
        "colab": {
          "base_uri": "https://localhost:8080/"
        },
        "id": "KEqGgIjLoAgt",
        "outputId": "03a634ce-6aae-45dc-f3ef-5f6bec62f992"
      },
      "execution_count": null,
      "outputs": [
        {
          "output_type": "stream",
          "name": "stdout",
          "text": [
            "rm: cannot remove '/content/lightning_logs/': No such file or directory\n"
          ]
        }
      ]
    },
    {
      "cell_type": "code",
      "source": [
        "env2=create_environment('LunarLander-v2')\n",
        "epochs=2\n",
        "for episode in range(epochs):\n",
        "  env2.reset()\n",
        "  print('*',end=\"\")\n",
        "  done = False\n",
        "  while not done:\n",
        "    action=env2.action_space.sample()\n",
        "    _,_,done,_, =env2.step(action)"
      ],
      "metadata": {
        "colab": {
          "base_uri": "https://localhost:8080/"
        },
        "id": "jh3dd_OfoFGQ",
        "outputId": "1258b1a2-c090-4147-9ec6-7d5732cc5a9f"
      },
      "execution_count": null,
      "outputs": [
        {
          "output_type": "stream",
          "name": "stdout",
          "text": [
            "**"
          ]
        }
      ]
    },
    {
      "cell_type": "code",
      "source": [
        "display_video(episode=0)"
      ],
      "metadata": {
        "colab": {
          "base_uri": "https://localhost:8080/",
          "height": 422
        },
        "id": "EWef6tJsoIEA",
        "outputId": "347b38c1-faa7-4020-a2ca-9a596cb28574"
      },
      "execution_count": null,
      "outputs": [
        {
          "output_type": "execute_result",
          "data": {
            "text/plain": [
              "<IPython.core.display.HTML object>"
            ],
            "text/html": [
              "<video width=600 controls><source src='data:video/mp4;base64,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'></video>"
            ]
          },
          "metadata": {},
          "execution_count": 23
        }
      ]
    },
    {
      "cell_type": "markdown",
      "source": [
        "##2.7 Create the Deep Q-Learning algorithm"
      ],
      "metadata": {
        "id": "f3cpbw-qoNSR"
      }
    },
    {
      "cell_type": "code",
      "source": [
        "class DeepQLearning(LightningModule):\n",
        "\n",
        "  #initialize\n",
        "  def __init__(self, env_name, policy=epsilon_greedy, capacity=100_000, batch_size=256,lr=1e-3, \n",
        "          hidden_size=128,gamma=0.99,loss_fn=F.smooth_l1_loss, optim=AdamW, \n",
        "          eps_start=1.0,eps_end=0.15,eps_last_episode=100,samples_per_epoch=10_000,sync_rate=10):\n",
        "    \n",
        "    super().__init__()\n",
        "    self.env=create_environment(env_name)\n",
        "\n",
        "    obs_size= self.env.observation_space.shape[0]\n",
        "    n_actions=self.env.action_space.n\n",
        "\n",
        "    self.q_net=DQN(hidden_size,obs_size,n_actions)\n",
        "\n",
        "    self.target_q_net= copy.deepcopy(self.q_net)\n",
        "\n",
        "    self.policy =policy\n",
        "    self.buffer=ReplayBuffer(capacity=capacity)\n",
        "    self.save_hyperparameters()\n",
        "\n",
        "    while len(self.buffer)<self.hparams.samples_per_epoch:\n",
        "      print(f\"{len(self.buffer)} samples in expereience buffer. Filling ...\")\n",
        "      self.play_episode(epsilon=self.hparams.eps_start)\n",
        "\n",
        "  @torch.no_grad()\n",
        "  def play_episode(self, policy=None, epsilon=0.):\n",
        "    state= self.env.reset()\n",
        "    done=False\n",
        "      \n",
        "    while not done:\n",
        "      if policy:\n",
        "        action=policy(state, self.env, self.q_net,epsilon=epsilon)\n",
        "      else:\n",
        "        action=self.env.action_space.sample()\n",
        "      \n",
        "      next_state, reward, done, info=self.env.step(action)\n",
        "      exp = (state, action, reward,done,next_state)\n",
        "      self.buffer.append(exp)\n",
        "      state=next_state\n",
        "\n",
        "  #Forward path\n",
        "  def forward(self, x):\n",
        "    return self.q_net(x)\n",
        "\n",
        "  #Config optimumizer\n",
        "  def configure_optimizers(self):\n",
        "    q_net_optimizer=self.hparams.optim(self.q_net.parameters(),lr=self.hparams.lr)\n",
        "    return [q_net_optimizer]\n",
        "\n",
        "  #prepare training state using data loader\n",
        "  def train_dataloader(self):\n",
        "    dataset=RLDataset(self.buffer, self.hparams.samples_per_epoch)\n",
        "    dataloader=DataLoader(dataset=dataset,batch_size=self.hparams.batch_size)\n",
        "    return dataloader\n",
        "\n",
        "  # training step\n",
        "  def training_step(self,batch,batch_idx):\n",
        "    states, actions,rewards,dones, next_states = batch\n",
        "    actions = actions.unsqueeze(1)\n",
        "    rewards = rewards.unsqueeze(1)\n",
        "    dones= dones.unsqueeze(1)\n",
        "    #next_states = next_states.unsqueeze(1)\n",
        "\n",
        "    state_action_values=self.q_net(states).gather(1, actions)\n",
        "    next_action_values, _ =self.target_q_net(next_states).max(dim=1,keepdim=True)\n",
        "    next_action_values[dones]= 0.0\n",
        "\n",
        "    expected_state_action_values = rewards+ self.hparams.gamma*next_action_values\n",
        "    loss=self.hparams.loss_fn(state_action_values, expected_state_action_values)\n",
        "    self.log('episode/Q-Error',loss)\n",
        "    return loss\n",
        "\n",
        "  #training end \n",
        "  def training_epoch_end(self, training_step_outputs):\n",
        "\n",
        "    epsilon= max(\n",
        "      self.hparams.eps_end,\n",
        "      self.hparams.eps_start-self.current_epoch/self.hparams.eps_last_episode\n",
        "    )\n",
        "    self.play_episode(policy=self.policy, epsilon=epsilon)\n",
        "    self.log('episode/Return', self.env.return_queue[-1])\n",
        "\n",
        "    if self.current_epoch % self.hparams.sync_rate==0:\n",
        "      self.target_q_net.load_state_dict(self.q_net.state_dict())"
      ],
      "metadata": {
        "id": "gSJOUmo6oMnm"
      },
      "execution_count": null,
      "outputs": []
    },
    {
      "cell_type": "markdown",
      "source": [
        "##2.8 Purge logs and run the visualization tool (Tensorboard)"
      ],
      "metadata": {
        "id": "BXslKvTGoScx"
      }
    },
    {
      "cell_type": "code",
      "source": [
        "#執行階段類型須選擇GPU否則不會有值\n",
        "!rm -r /content/lightning_logs-1/\n",
        "!rm -r /content/videos-1/\n",
        "%load_ext tensorboard\n",
        "# %reload_ext tensorboard\n",
        "\n",
        "# %tensorboard --logdir /content/lightning_logs-1/ --bind_all\n",
        "\n",
        "%tensorboard --logdir /content/lightning_logs-1/ --bind_all\n",
        "\n"
      ],
      "metadata": {
        "colab": {
          "base_uri": "https://localhost:8080/",
          "height": 839
        },
        "id": "t-gqaYSJoWLr",
        "outputId": "4ebc6cfc-ce54-4c00-8b5a-9aef1f26c587"
      },
      "execution_count": null,
      "outputs": []
    },
    {
      "cell_type": "markdown",
      "source": [
        "##Train the policy"
      ],
      "metadata": {
        "id": "rflgLZ1Aogc-"
      }
    },
    {
      "cell_type": "code",
      "source": [
        "algo = DeepQLearning('LunarLander-v2')\n",
        "trainer= Trainer(\n",
        "    gpus=num_gpus,\n",
        "    max_epochs=10_000,\n",
        "    callbacks=[EarlyStopping(monitor='episode/Return',mode='max', patience=500)]\n",
        ")\n",
        "trainer.fit(algo)"
      ],
      "metadata": {
        "colab": {
          "base_uri": "https://localhost:8080/",
          "height": 1000,
          "referenced_widgets": [
            "03d7f786a4c84d81a837f1df943fcf73",
            "2c8ee9effefc4c7a9eb2971c25f89600",
            "17133daee96144e6bf332d8e3988d3df",
            "142223882d574f21a7527420d8b89193",
            "a5c0ecebc6ce400d88d708b6472d2161",
            "973fc29277134cafb9a49170d89a471a",
            "1e91a81444024373af95efc39b8c3ec2",
            "199a157c66874176a9e15d2977054336",
            "fef2dc2e228946eca48a37ade17bb270",
            "2658f94bfb6d47e6a56b070fe0f1d1ff",
            "78dc1821d8684a17b51db314f29029c0"
          ]
        },
        "id": "ilvZCVkroiQA",
        "outputId": "43ff0872-cca4-448b-9759-edffb3d7ba72"
      },
      "execution_count": null,
      "outputs": [
        {
          "output_type": "stream",
          "name": "stdout",
          "text": [
            "0 samples in expereience buffer. Filling ...\n",
            "84 samples in expereience buffer. Filling ...\n",
            "181 samples in expereience buffer. Filling ...\n",
            "258 samples in expereience buffer. Filling ...\n",
            "374 samples in expereience buffer. Filling ...\n",
            "511 samples in expereience buffer. Filling ...\n",
            "593 samples in expereience buffer. Filling ...\n",
            "707 samples in expereience buffer. Filling ...\n",
            "798 samples in expereience buffer. Filling ...\n",
            "885 samples in expereience buffer. Filling ...\n",
            "979 samples in expereience buffer. Filling ...\n",
            "1065 samples in expereience buffer. Filling ...\n",
            "1187 samples in expereience buffer. Filling ...\n",
            "1310 samples in expereience buffer. Filling ...\n",
            "1378 samples in expereience buffer. Filling ...\n",
            "1469 samples in expereience buffer. Filling ...\n",
            "1538 samples in expereience buffer. Filling ...\n",
            "1610 samples in expereience buffer. Filling ...\n",
            "1719 samples in expereience buffer. Filling ...\n",
            "1786 samples in expereience buffer. Filling ...\n",
            "1852 samples in expereience buffer. Filling ...\n",
            "1928 samples in expereience buffer. Filling ...\n",
            "1993 samples in expereience buffer. Filling ...\n",
            "2086 samples in expereience buffer. Filling ...\n",
            "2195 samples in expereience buffer. Filling ...\n",
            "2281 samples in expereience buffer. Filling ...\n",
            "2386 samples in expereience buffer. Filling ...\n",
            "2452 samples in expereience buffer. Filling ...\n",
            "2523 samples in expereience buffer. Filling ...\n",
            "2612 samples in expereience buffer. Filling ...\n",
            "2684 samples in expereience buffer. Filling ...\n",
            "2764 samples in expereience buffer. Filling ...\n",
            "2838 samples in expereience buffer. Filling ...\n",
            "2928 samples in expereience buffer. Filling ...\n",
            "2994 samples in expereience buffer. Filling ...\n",
            "3394 samples in expereience buffer. Filling ...\n",
            "3496 samples in expereience buffer. Filling ...\n",
            "3587 samples in expereience buffer. Filling ...\n",
            "3730 samples in expereience buffer. Filling ...\n",
            "3841 samples in expereience buffer. Filling ...\n",
            "3925 samples in expereience buffer. Filling ...\n",
            "3997 samples in expereience buffer. Filling ...\n",
            "4059 samples in expereience buffer. Filling ...\n",
            "4140 samples in expereience buffer. Filling ...\n",
            "4238 samples in expereience buffer. Filling ...\n",
            "4338 samples in expereience buffer. Filling ...\n",
            "4415 samples in expereience buffer. Filling ...\n",
            "4537 samples in expereience buffer. Filling ...\n",
            "4664 samples in expereience buffer. Filling ...\n",
            "4739 samples in expereience buffer. Filling ...\n",
            "4837 samples in expereience buffer. Filling ...\n",
            "4957 samples in expereience buffer. Filling ...\n",
            "5027 samples in expereience buffer. Filling ...\n",
            "5134 samples in expereience buffer. Filling ...\n",
            "5222 samples in expereience buffer. Filling ...\n",
            "5302 samples in expereience buffer. Filling ...\n",
            "5390 samples in expereience buffer. Filling ...\n",
            "5465 samples in expereience buffer. Filling ...\n",
            "5540 samples in expereience buffer. Filling ...\n",
            "5658 samples in expereience buffer. Filling ...\n",
            "5743 samples in expereience buffer. Filling ...\n",
            "5816 samples in expereience buffer. Filling ...\n",
            "5915 samples in expereience buffer. Filling ...\n",
            "6018 samples in expereience buffer. Filling ...\n",
            "6094 samples in expereience buffer. Filling ...\n",
            "6243 samples in expereience buffer. Filling ...\n",
            "6327 samples in expereience buffer. Filling ...\n",
            "6417 samples in expereience buffer. Filling ...\n",
            "6500 samples in expereience buffer. Filling ...\n",
            "6574 samples in expereience buffer. Filling ...\n",
            "6700 samples in expereience buffer. Filling ...\n",
            "6786 samples in expereience buffer. Filling ...\n",
            "6879 samples in expereience buffer. Filling ...\n",
            "6947 samples in expereience buffer. Filling ...\n",
            "7033 samples in expereience buffer. Filling ...\n",
            "7155 samples in expereience buffer. Filling ...\n",
            "7269 samples in expereience buffer. Filling ...\n",
            "7359 samples in expereience buffer. Filling ...\n",
            "7431 samples in expereience buffer. Filling ...\n",
            "7521 samples in expereience buffer. Filling ...\n",
            "7661 samples in expereience buffer. Filling ...\n",
            "7763 samples in expereience buffer. Filling ...\n",
            "7831 samples in expereience buffer. Filling ...\n",
            "7950 samples in expereience buffer. Filling ...\n",
            "8067 samples in expereience buffer. Filling ...\n",
            "8160 samples in expereience buffer. Filling ...\n",
            "8238 samples in expereience buffer. Filling ...\n",
            "8379 samples in expereience buffer. Filling ...\n",
            "8476 samples in expereience buffer. Filling ...\n",
            "8553 samples in expereience buffer. Filling ...\n",
            "8628 samples in expereience buffer. Filling ...\n",
            "8703 samples in expereience buffer. Filling ...\n",
            "8782 samples in expereience buffer. Filling ...\n",
            "8862 samples in expereience buffer. Filling ...\n",
            "8930 samples in expereience buffer. Filling ...\n",
            "9065 samples in expereience buffer. Filling ...\n",
            "9158 samples in expereience buffer. Filling ...\n",
            "9253 samples in expereience buffer. Filling ...\n",
            "9324 samples in expereience buffer. Filling ...\n",
            "9443 samples in expereience buffer. Filling ...\n",
            "9548 samples in expereience buffer. Filling ...\n"
          ]
        },
        {
          "output_type": "stream",
          "name": "stderr",
          "text": [
            "GPU available: False, used: False\n",
            "TPU available: False, using: 0 TPU cores\n",
            "IPU available: False, using: 0 IPUs\n",
            "HPU available: False, using: 0 HPUs\n",
            "Missing logger folder: /content/lightning_logs\n",
            "\n",
            "  | Name         | Type | Params\n",
            "--------------------------------------\n",
            "0 | q_net        | DQN  | 18.2 K\n",
            "1 | target_q_net | DQN  | 18.2 K\n",
            "--------------------------------------\n",
            "36.4 K    Trainable params\n",
            "0         Non-trainable params\n",
            "36.4 K    Total params\n",
            "0.145     Total estimated model params size (MB)\n"
          ]
        },
        {
          "output_type": "stream",
          "name": "stdout",
          "text": [
            "9635 samples in expereience buffer. Filling ...\n",
            "9712 samples in expereience buffer. Filling ...\n",
            "9786 samples in expereience buffer. Filling ...\n",
            "9903 samples in expereience buffer. Filling ...\n",
            "9995 samples in expereience buffer. Filling ...\n"
          ]
        },
        {
          "output_type": "display_data",
          "data": {
            "text/plain": [
              "Training: 0it [00:00, ?it/s]"
            ],
            "application/vnd.jupyter.widget-view+json": {
              "version_major": 2,
              "version_minor": 0,
              "model_id": "03d7f786a4c84d81a837f1df943fcf73"
            }
          },
          "metadata": {}
        },
        {
          "output_type": "stream",
          "name": "stderr",
          "text": [
            "/usr/local/lib/python3.7/dist-packages/ipykernel_launcher.py:5: UserWarning: Creating a tensor from a list of numpy.ndarrays is extremely slow. Please consider converting the list to a single numpy.ndarray with numpy.array() before converting to a tensor. (Triggered internally at  ../torch/csrc/utils/tensor_new.cpp:210.)\n",
            "  \"\"\"\n"
          ]
        }
      ]
    },
    {
      "cell_type": "markdown",
      "source": [
        "##Check the resulting policy"
      ],
      "metadata": {
        "id": "t1S0tzlbogTq"
      }
    },
    {
      "cell_type": "code",
      "source": [
        "display_video(episode=1000)"
      ],
      "metadata": {
        "colab": {
          "base_uri": "https://localhost:8080/",
          "height": 422
        },
        "id": "T_-T9KFMoo0Z",
        "outputId": "201f570e-7b64-4ac3-a07e-da359b71edd7"
      },
      "execution_count": null,
      "outputs": [
        {
          "output_type": "execute_result",
          "data": {
            "text/plain": [
              "<IPython.core.display.HTML object>"
            ],
            "text/html": [
              "<video width=600 controls><source src='data:video/mp4;base64,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'></video>"
            ]
          },
          "metadata": {},
          "execution_count": 18
        }
      ]
    },
    {
      "cell_type": "code",
      "source": [
        "# %cp -av \"/content/lightning_logs-1\" \"/content/drive/MyDrive/Colab Notebooks/HW5/\""
      ],
      "metadata": {
        "id": "CoxoBREUtSHf"
      },
      "execution_count": null,
      "outputs": []
    },
    {
      "cell_type": "code",
      "source": [
        "# %cp -av \"/content/sample_data-1\" \"/content/drive/MyDrive/Colab Notebooks/HW5/\""
      ],
      "metadata": {
        "id": "XnfkpgtUufcw"
      },
      "execution_count": null,
      "outputs": []
    },
    {
      "cell_type": "code",
      "source": [
        "# %cp -av \"/content/videos-1\" \"/content/drive/MyDrive/Colab Notebooks/HW5/\""
      ],
      "metadata": {
        "id": "HlNF2pvduqb8"
      },
      "execution_count": null,
      "outputs": []
    }
  ]
}